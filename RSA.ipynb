{
  "nbformat": 4,
  "nbformat_minor": 0,
  "metadata": {
    "colab": {
      "name": "RSA.ipynb",
      "provenance": [],
      "authorship_tag": "ABX9TyMmWfLuJr/B7a2z/80rBRqW",
      "include_colab_link": true
    },
    "kernelspec": {
      "name": "python3",
      "display_name": "Python 3"
    }
  },
  "cells": [
    {
      "cell_type": "markdown",
      "metadata": {
        "id": "view-in-github",
        "colab_type": "text"
      },
      "source": [
        "<a href=\"https://colab.research.google.com/github/CaioPellicani/RSA_Fatecrp/blob/main/RSA.ipynb\" target=\"_parent\"><img src=\"https://colab.research.google.com/assets/colab-badge.svg\" alt=\"Open In Colab\"/></a>"
      ]
    },
    {
      "cell_type": "markdown",
      "source": [
        "Trabalho para a Disciplina de Segurança da Informação do curso de Análise e Desenvolvimento de Sistemas da FATEC campus Ribeirão Preto\n",
        "\n",
        "\n",
        "#Exemplificação Simplificada de Cripitografia RSA\n",
        "\n",
        "* Aline Mizumukai\n",
        "* Caio Pellicani"
      ],
      "metadata": {
        "id": "hdWGvn0YobgQ"
      }
    },
    {
      "cell_type": "code",
      "metadata": {
        "id": "KbhOwAdrMkll"
      },
      "source": [
        "from math import sqrt"
      ],
      "execution_count": null,
      "outputs": []
    },
    {
      "cell_type": "code",
      "metadata": {
        "id": "l1x0fbScERMf"
      },
      "source": [
        "def mdc( valor1, valor2 ): \n",
        "    if valor2 == 0: \n",
        "        return valor1 \n",
        "    else: \n",
        "        return mdc( valor2, valor1 % valor2 ) "
      ],
      "execution_count": null,
      "outputs": []
    },
    {
      "cell_type": "code",
      "metadata": {
        "id": "9V19GpnyxYBY"
      },
      "source": [
        "def primo( num ):\n",
        "    if num < 2:\n",
        "        return False\n",
        "    elif num == 2:\n",
        "        return True\n",
        "    else:\n",
        "        for i in range( 2, int( sqrt( num ) ) + 1, 2 ):\n",
        "            if num % i == 0:\n",
        "                return False\n",
        "    return True"
      ],
      "execution_count": null,
      "outputs": []
    },
    {
      "cell_type": "code",
      "metadata": {
        "id": "kohnju1ODBYd"
      },
      "source": [
        "def definirD( P, Q ):\n",
        "    resul = 2\n",
        "    Z = ( P - 1 ) * ( Q - 1 )\n",
        "\n",
        "    for resul in range( 2, Z ):\n",
        "      if ( mdc( Z, resul ) == 1 ):\n",
        "        return resul\n",
        "    return null"
      ],
      "execution_count": null,
      "outputs": []
    },
    {
      "cell_type": "code",
      "metadata": {
        "id": "cYJLU29SC5nh"
      },
      "source": [
        "def definirE( P, Q, D ):\n",
        "    resul = 2\n",
        "    Z = ( P - 1 ) * ( Q - 1 )\n",
        "\n",
        "    for resul in range( 2, Z ):\n",
        "      if ( ( ( D * resul ) % Z ) == 1 ):\n",
        "        return resul\n",
        "    return null"
      ],
      "execution_count": null,
      "outputs": []
    },
    {
      "cell_type": "code",
      "metadata": {
        "id": "7MLWdLp2hyRi"
      },
      "source": [
        "def cripto( valor, chave ):\n",
        "  resul = \"\"\n",
        "\n",
        "  for i in range(0, len( valor ) ):\n",
        "    resul += ( chr( pow (ord( valor[i] ), chave[0], chave[1] ) ) )\n",
        "\n",
        "  return resul"
      ],
      "execution_count": null,
      "outputs": []
    },
    {
      "cell_type": "code",
      "metadata": {
        "id": "b-oalwP9edY-"
      },
      "source": [
        "def rotina( texto, chavePrivada, ChavePublica ):\n",
        "  \n",
        "  print( \"######## Pública e Privada  ########\" )\n",
        "  criptografar = cripto( texto, ChavePublica )\n",
        "  print( \"Criptografado:    \" + criptografar )\n",
        "\n",
        "  descriptografar = cripto( criptografar, ChavePrivada )\n",
        "  print( \"Descriptografado: \" + descriptografar )\n",
        "  print( \"####################################\\n\\n\")\n",
        "\n",
        "  print( \"######## Privada e Pública  ########\" )\n",
        "  criptografar = cripto( texto, ChavePrivada )\n",
        "  print( \"Criptografado:    \" + criptografar )\n",
        "\n",
        "  descriptografar = cripto( criptografar, ChavePublica )\n",
        "  print( \"Descriptografado: \" + descriptografar )\n",
        "  print( \"####################################\\n\\n\")\n",
        "\n",
        "  print( \"######## Pública e Pública  ########\" )\n",
        "  criptografar = cripto( texto, ChavePublica )\n",
        "  print( \"Criptografado:    \" + criptografar )\n",
        "\n",
        "  descriptografar = cripto( criptografar, ChavePublica )\n",
        "  print( \"Descriptografado: \" + descriptografar )\n",
        "  print( \"####################################\\n\\n\")\n",
        "\n",
        "  print( \"######## Privada e Privada  ########\" )\n",
        "  criptografar = cripto( texto, ChavePrivada )\n",
        "  print( \"Criptografado:    \" + criptografar )\n",
        "\n",
        "  descriptografar = cripto( criptografar, ChavePrivada )\n",
        "  print( \"Descriptografado: \" + descriptografar )\n",
        "  print( \"####################################\\n\\n\")"
      ],
      "execution_count": null,
      "outputs": []
    },
    {
      "cell_type": "code",
      "metadata": {
        "id": "NDUIzE2oy4iI",
        "colab": {
          "base_uri": "https://localhost:8080/"
        },
        "outputId": "c8cbefe9-5618-4400-99b0-e640441a9a37"
      },
      "source": [
        "P = 97\n",
        "Q = 89\n",
        "\n",
        "if not primo( P ):\n",
        "  print( \"P deve ser um número primo\" )\n",
        "elif not primo( Q ):\n",
        "  print( \"Q deve ser um número primo\" )  \n",
        "else:  \n",
        "  N = P * Q\n",
        "  D = definirD( P, Q )\n",
        "  E = definirE( P, Q, D )\n",
        "\n",
        "  ChavePrivada = [ D, N ]\n",
        "  ChavePublica = [ E, N ]\n",
        "\n",
        "  texto = input( \"Digite uma mensagem: \\n\" )\n",
        "  print( \"\\n\" )\n",
        "\n",
        "  rotina( texto, ChavePrivada, ChavePublica )"
      ],
      "execution_count": null,
      "outputs": [
        {
          "output_type": "stream",
          "text": [
            "Digite uma mensagem: \n",
            "Caio\n",
            "\n",
            "\n",
            "######## Pública e Privada  ########\n",
            "Criptografado:    ჀƄࠇጏ\n",
            "Descriptografado: Caio\n",
            "####################################\n",
            "\n",
            "\n",
            "######## Privada e Pública  ########\n",
            "Criptografado:    لÂႚק\n",
            "Descriptografado: Caio\n",
            "####################################\n",
            "\n",
            "\n",
            "######## Pública e Pública  ########\n",
            "Criptografado:    ჀƄࠇጏ\n",
            "Descriptografado: ᙈᥣǝᷞ\n",
            "####################################\n",
            "\n",
            "\n",
            "######## Privada e Privada  ########\n",
            "Criptografado:    لÂႚק\n",
            "Descriptografado: ൖᡀᦼǶ\n",
            "####################################\n",
            "\n",
            "\n"
          ],
          "name": "stdout"
        }
      ]
    }
  ]
}